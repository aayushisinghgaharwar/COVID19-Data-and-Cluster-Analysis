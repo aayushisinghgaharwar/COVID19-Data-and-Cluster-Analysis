{
 "cells": [
  {
   "cell_type": "code",
   "execution_count": 1,
   "metadata": {},
   "outputs": [
    {
     "data": {
      "application/vnd.jupyter.widget-view+json": {
       "model_id": "03a798e6f3fb40eaaf0ce2be524577c5",
       "version_major": 2,
       "version_minor": 0
      },
      "text/plain": [
       "VBox()"
      ]
     },
     "metadata": {},
     "output_type": "display_data"
    },
    {
     "name": "stdout",
     "output_type": "stream",
     "text": [
      "Starting Spark application\n"
     ]
    },
    {
     "data": {
      "text/html": [
       "<table>\n",
       "<tr><th>ID</th><th>YARN Application ID</th><th>Kind</th><th>State</th><th>Spark UI</th><th>Driver log</th><th>Current session?</th></tr><tr><td>0</td><td>application_1607754714477_0001</td><td>pyspark</td><td>idle</td><td><a target=\"_blank\" href=\"http://ip-172-31-45-130.ec2.internal:20888/proxy/application_1607754714477_0001/\" >Link</a></td><td><a target=\"_blank\" href=\"http://ip-172-31-42-10.ec2.internal:8042/node/containerlogs/container_1607754714477_0001_01_000001/livy\" >Link</a></td><td>✔</td></tr></table>"
      ],
      "text/plain": [
       "<IPython.core.display.HTML object>"
      ]
     },
     "metadata": {},
     "output_type": "display_data"
    },
    {
     "data": {
      "application/vnd.jupyter.widget-view+json": {
       "model_id": "",
       "version_major": 2,
       "version_minor": 0
      },
      "text/plain": [
       "FloatProgress(value=0.0, bar_style='info', description='Progress:', layout=Layout(height='25px', width='50%'),…"
      ]
     },
     "metadata": {},
     "output_type": "display_data"
    },
    {
     "name": "stdout",
     "output_type": "stream",
     "text": [
      "SparkSession available as 'spark'.\n"
     ]
    },
    {
     "data": {
      "application/vnd.jupyter.widget-view+json": {
       "model_id": "",
       "version_major": 2,
       "version_minor": 0
      },
      "text/plain": [
       "FloatProgress(value=0.0, bar_style='info', description='Progress:', layout=Layout(height='25px', width='50%'),…"
      ]
     },
     "metadata": {},
     "output_type": "display_data"
    }
   ],
   "source": [
    "from pyspark import SparkConf, SparkContext\n",
    "\n",
    "from pyspark.sql import SparkSession\n",
    "spark = SparkSession.builder.appName('kmeans').getOrCreate()"
   ]
  },
  {
   "cell_type": "code",
   "execution_count": 2,
   "metadata": {},
   "outputs": [
    {
     "name": "stdout",
     "output_type": "stream",
     "text": [
      "Starting Spark application\n"
     ]
    },
    {
     "data": {
      "text/html": [
       "<table>\n",
       "<tr><th>ID</th><th>YARN Application ID</th><th>Kind</th><th>State</th><th>Spark UI</th><th>Driver log</th><th>Current session?</th></tr><tr><td>1</td><td>application_1607754714477_0002</td><td>pyspark</td><td>idle</td><td><a target=\"_blank\" href=\"http://ip-172-31-45-130.ec2.internal:20888/proxy/application_1607754714477_0002/\" >Link</a></td><td><a target=\"_blank\" href=\"http://ip-172-31-42-10.ec2.internal:8042/node/containerlogs/container_1607754714477_0002_01_000001/livy\" >Link</a></td><td>✔</td></tr></table>"
      ],
      "text/plain": [
       "<IPython.core.display.HTML object>"
      ]
     },
     "metadata": {},
     "output_type": "display_data"
    },
    {
     "data": {
      "application/vnd.jupyter.widget-view+json": {
       "model_id": "",
       "version_major": 2,
       "version_minor": 0
      },
      "text/plain": [
       "FloatProgress(value=0.0, bar_style='info', description='Progress:', layout=Layout(height='25px', width='50%'),…"
      ]
     },
     "metadata": {},
     "output_type": "display_data"
    },
    {
     "name": "stdout",
     "output_type": "stream",
     "text": [
      "SparkSession available as 'spark'.\n"
     ]
    },
    {
     "data": {
      "text/html": [
       "Current session configs: <tt>{'conf': {'spark.pyspark.python': 'python', 'spark.pyspark.virtualenv.enabled': 'true', 'spark.pyspark.virtualenv.type': 'native', 'spark.pyspark.virtualenv.bin.path': '/usr/bin/virtualenv'}, 'kind': 'pyspark'}</tt><br>"
      ],
      "text/plain": [
       "<IPython.core.display.HTML object>"
      ]
     },
     "metadata": {},
     "output_type": "display_data"
    },
    {
     "data": {
      "text/html": [
       "<table>\n",
       "<tr><th>ID</th><th>YARN Application ID</th><th>Kind</th><th>State</th><th>Spark UI</th><th>Driver log</th><th>Current session?</th></tr><tr><td>1</td><td>application_1607754714477_0002</td><td>pyspark</td><td>idle</td><td><a target=\"_blank\" href=\"http://ip-172-31-45-130.ec2.internal:20888/proxy/application_1607754714477_0002/\" >Link</a></td><td><a target=\"_blank\" href=\"http://ip-172-31-42-10.ec2.internal:8042/node/containerlogs/container_1607754714477_0002_01_000001/livy\" >Link</a></td><td>✔</td></tr></table>"
      ],
      "text/plain": [
       "<IPython.core.display.HTML object>"
      ]
     },
     "metadata": {},
     "output_type": "display_data"
    }
   ],
   "source": [
    "%%configure -f\n",
    "{\n",
    "    \"conf\":{\n",
    "        \"spark.pyspark.python\":\"python\",\n",
    "        \"spark.pyspark.virtualenv.enabled\": \"true\",\n",
    "        \"spark.pyspark.virtualenv.type\":\"native\",\n",
    "        \"spark.pyspark.virtualenv.bin.path\": \"/usr/bin/virtualenv\"\n",
    "    }\n",
    "}"
   ]
  },
  {
   "cell_type": "code",
   "execution_count": 18,
   "metadata": {},
   "outputs": [
    {
     "data": {
      "application/vnd.jupyter.widget-view+json": {
       "model_id": "03d346f15e23433bb517ccf55d4aa55a",
       "version_major": 2,
       "version_minor": 0
      },
      "text/plain": [
       "VBox()"
      ]
     },
     "metadata": {},
     "output_type": "display_data"
    },
    {
     "data": {
      "application/vnd.jupyter.widget-view+json": {
       "model_id": "",
       "version_major": 2,
       "version_minor": 0
      },
      "text/plain": [
       "FloatProgress(value=0.0, bar_style='info', description='Progress:', layout=Layout(height='25px', width='50%'),…"
      ]
     },
     "metadata": {},
     "output_type": "display_data"
    }
   ],
   "source": [
    "# sc.install_pypi_package('pandas')\n",
    "# sc.install_pypi_package('s3fs')\n",
    "# sc.install_pypi_package('time')\n",
    "# sc.install_pypi_package('matplotlib')\n",
    "# sc.install_pypi_package('six==1.12')"
   ]
  },
  {
   "cell_type": "code",
   "execution_count": 4,
   "metadata": {},
   "outputs": [
    {
     "data": {
      "application/vnd.jupyter.widget-view+json": {
       "model_id": "7fe2fd42a29b46349d7253ca5b2bcd89",
       "version_major": 2,
       "version_minor": 0
      },
      "text/plain": [
       "VBox()"
      ]
     },
     "metadata": {},
     "output_type": "display_data"
    },
    {
     "data": {
      "application/vnd.jupyter.widget-view+json": {
       "model_id": "",
       "version_major": 2,
       "version_minor": 0
      },
      "text/plain": [
       "FloatProgress(value=0.0, bar_style='info', description='Progress:', layout=Layout(height='25px', width='50%'),…"
      ]
     },
     "metadata": {},
     "output_type": "display_data"
    }
   ],
   "source": [
    "from pyspark.sql.types import IntegerType, FloatType\n",
    "from pyspark.sql.functions import col\n",
    "from pyspark.ml.clustering import KMeans\n",
    "from pyspark.ml.evaluation import ClusteringEvaluator\n",
    "#import matplotlib.pyplot as plt\n",
    "from pyspark.ml.feature import VectorAssembler\n",
    "import numpy as np\n",
    "import pandas as pd"
   ]
  },
  {
   "cell_type": "markdown",
   "metadata": {},
   "source": [
    "## Clustering Based on Countries Data"
   ]
  },
  {
   "cell_type": "code",
   "execution_count": 63,
   "metadata": {},
   "outputs": [
    {
     "data": {
      "application/vnd.jupyter.widget-view+json": {
       "model_id": "275ca0405fc34cd9ac03504b93adb746",
       "version_major": 2,
       "version_minor": 0
      },
      "text/plain": [
       "VBox()"
      ]
     },
     "metadata": {},
     "output_type": "display_data"
    },
    {
     "data": {
      "application/vnd.jupyter.widget-view+json": {
       "model_id": "",
       "version_major": 2,
       "version_minor": 0
      },
      "text/plain": [
       "FloatProgress(value=0.0, bar_style='info', description='Progress:', layout=Layout(height='25px', width='50%'),…"
      ]
     },
     "metadata": {},
     "output_type": "display_data"
    }
   ],
   "source": [
    "world_data = pd.read_csv('s3://bigdata678bdalvi17/time_series_covid_19_confirmed.csv')"
   ]
  },
  {
   "cell_type": "code",
   "execution_count": 64,
   "metadata": {},
   "outputs": [
    {
     "data": {
      "application/vnd.jupyter.widget-view+json": {
       "model_id": "11972aaaf3da4baf9dcd9206dfa8890a",
       "version_major": 2,
       "version_minor": 0
      },
      "text/plain": [
       "VBox()"
      ]
     },
     "metadata": {},
     "output_type": "display_data"
    },
    {
     "data": {
      "application/vnd.jupyter.widget-view+json": {
       "model_id": "",
       "version_major": 2,
       "version_minor": 0
      },
      "text/plain": [
       "FloatProgress(value=0.0, bar_style='info', description='Progress:', layout=Layout(height='25px', width='50%'),…"
      ]
     },
     "metadata": {},
     "output_type": "display_data"
    },
    {
     "name": "stdout",
     "output_type": "stream",
     "text": [
      "  Province/State Country/Region       Lat  ...  11/13/20  11/14/20  11/15/20\n",
      "0            NaN    Afghanistan  33.93911  ...     42969     43035     43240\n",
      "1            NaN        Albania  41.15330  ...     26701     27233     27830\n",
      "2            NaN        Algeria  28.03390  ...     65975     66819     67679\n",
      "3            NaN        Andorra  42.50630  ...      5725      5725      5872\n",
      "4            NaN         Angola -11.20270  ...     13228     13374     13451\n",
      "\n",
      "[5 rows x 303 columns]"
     ]
    }
   ],
   "source": [
    "world_data.head()"
   ]
  },
  {
   "cell_type": "code",
   "execution_count": 65,
   "metadata": {},
   "outputs": [
    {
     "data": {
      "application/vnd.jupyter.widget-view+json": {
       "model_id": "661e4ff237f84eb79d11e2a2daaaf765",
       "version_major": 2,
       "version_minor": 0
      },
      "text/plain": [
       "VBox()"
      ]
     },
     "metadata": {},
     "output_type": "display_data"
    },
    {
     "data": {
      "application/vnd.jupyter.widget-view+json": {
       "model_id": "",
       "version_major": 2,
       "version_minor": 0
      },
      "text/plain": [
       "FloatProgress(value=0.0, bar_style='info', description='Progress:', layout=Layout(height='25px', width='50%'),…"
      ]
     },
     "metadata": {},
     "output_type": "display_data"
    }
   ],
   "source": [
    "world_data = world_data.drop(['Province/State', 'Lat', 'Long'], axis = 1)"
   ]
  },
  {
   "cell_type": "code",
   "execution_count": 66,
   "metadata": {},
   "outputs": [
    {
     "data": {
      "application/vnd.jupyter.widget-view+json": {
       "model_id": "680225b6109d4278a0ab3fed64020988",
       "version_major": 2,
       "version_minor": 0
      },
      "text/plain": [
       "VBox()"
      ]
     },
     "metadata": {},
     "output_type": "display_data"
    },
    {
     "data": {
      "application/vnd.jupyter.widget-view+json": {
       "model_id": "",
       "version_major": 2,
       "version_minor": 0
      },
      "text/plain": [
       "FloatProgress(value=0.0, bar_style='info', description='Progress:', layout=Layout(height='25px', width='50%'),…"
      ]
     },
     "metadata": {},
     "output_type": "display_data"
    },
    {
     "name": "stdout",
     "output_type": "stream",
     "text": [
      "                1/22/20  1/23/20  1/24/20  ...  11/13/20  11/14/20  11/15/20\n",
      "Country/Region                             ...                              \n",
      "Afghanistan           0        0        0  ...     42969     43035     43240\n",
      "Albania               0        0        0  ...     26701     27233     27830\n",
      "Algeria               0        0        0  ...     65975     66819     67679\n",
      "Andorra               0        0        0  ...      5725      5725      5872\n",
      "Angola                0        0        0  ...     13228     13374     13451\n",
      "\n",
      "[5 rows x 299 columns]"
     ]
    }
   ],
   "source": [
    "world_data = world_data.set_index('Country/Region')\n",
    "world_data.head()"
   ]
  },
  {
   "cell_type": "code",
   "execution_count": 67,
   "metadata": {},
   "outputs": [
    {
     "data": {
      "application/vnd.jupyter.widget-view+json": {
       "model_id": "81d7bcccca1344fa959630fb241a3d9d",
       "version_major": 2,
       "version_minor": 0
      },
      "text/plain": [
       "VBox()"
      ]
     },
     "metadata": {},
     "output_type": "display_data"
    },
    {
     "data": {
      "application/vnd.jupyter.widget-view+json": {
       "model_id": "",
       "version_major": 2,
       "version_minor": 0
      },
      "text/plain": [
       "FloatProgress(value=0.0, bar_style='info', description='Progress:', layout=Layout(height='25px', width='50%'),…"
      ]
     },
     "metadata": {},
     "output_type": "display_data"
    }
   ],
   "source": [
    "world_sp = spark.createDataFrame(world_data)"
   ]
  },
  {
   "cell_type": "code",
   "execution_count": 68,
   "metadata": {},
   "outputs": [
    {
     "data": {
      "application/vnd.jupyter.widget-view+json": {
       "model_id": "281afda5f3414f4aad449617ce9fb8d9",
       "version_major": 2,
       "version_minor": 0
      },
      "text/plain": [
       "VBox()"
      ]
     },
     "metadata": {},
     "output_type": "display_data"
    },
    {
     "data": {
      "application/vnd.jupyter.widget-view+json": {
       "model_id": "",
       "version_major": 2,
       "version_minor": 0
      },
      "text/plain": [
       "FloatProgress(value=0.0, bar_style='info', description='Progress:', layout=Layout(height='25px', width='50%'),…"
      ]
     },
     "metadata": {},
     "output_type": "display_data"
    }
   ],
   "source": [
    "vecAssembler = VectorAssembler(inputCols=world_sp.columns, outputCol=\"features\")\n",
    "world_df = vecAssembler.transform(world_sp)"
   ]
  },
  {
   "cell_type": "markdown",
   "metadata": {},
   "source": [
    "##### Computing the Cost Function, to build a cost curve\n",
    "##### Determining K value using Elbow rule and Silhouette Score"
   ]
  },
  {
   "cell_type": "code",
   "execution_count": 11,
   "metadata": {},
   "outputs": [
    {
     "data": {
      "application/vnd.jupyter.widget-view+json": {
       "model_id": "c68cebdfefef4537b33196e120481a2e",
       "version_major": 2,
       "version_minor": 0
      },
      "text/plain": [
       "VBox()"
      ]
     },
     "metadata": {},
     "output_type": "display_data"
    },
    {
     "data": {
      "application/vnd.jupyter.widget-view+json": {
       "model_id": "",
       "version_major": 2,
       "version_minor": 0
      },
      "text/plain": [
       "FloatProgress(value=0.0, bar_style='info', description='Progress:', layout=Layout(height='25px', width='50%'),…"
      ]
     },
     "metadata": {},
     "output_type": "display_data"
    },
    {
     "name": "stdout",
     "output_type": "stream",
     "text": [
      "52.111921072"
     ]
    }
   ],
   "source": [
    "import time\n",
    "start_time = time.time()\n",
    "# computing the cost function for best value of K\n",
    "cost_world = np.zeros(20)\n",
    "for k in range(2,20):\n",
    "    kmeans = KMeans().setK(k).setSeed(1).setFeaturesCol(\"features\")\n",
    "    model = kmeans.fit(world_df.sample(False,0.1, seed=42))\n",
    "    cost_world[k] = model.computeCost(world_df)\n",
    "end_time = time.time()\n",
    "\n",
    "print(end_time - start_time)"
   ]
  },
  {
   "cell_type": "code",
   "execution_count": 12,
   "metadata": {},
   "outputs": [
    {
     "data": {
      "application/vnd.jupyter.widget-view+json": {
       "model_id": "d9fe927949e74b4a8492da2195c42d4f",
       "version_major": 2,
       "version_minor": 0
      },
      "text/plain": [
       "VBox()"
      ]
     },
     "metadata": {},
     "output_type": "display_data"
    },
    {
     "data": {
      "application/vnd.jupyter.widget-view+json": {
       "model_id": "",
       "version_major": 2,
       "version_minor": 0
      },
      "text/plain": [
       "FloatProgress(value=0.0, bar_style='info', description='Progress:', layout=Layout(height='25px', width='50%'),…"
      ]
     },
     "metadata": {},
     "output_type": "display_data"
    },
    {
     "name": "stdout",
     "output_type": "stream",
     "text": [
      "    Value of K    Cost Value\n",
      "2            2  1.027137e+16\n",
      "3            3  1.017248e+16\n",
      "4            4  1.001429e+16\n",
      "5            5  9.983494e+15\n",
      "6            6  9.978587e+15\n",
      "7            7  9.977637e+15\n",
      "8            8  9.976452e+15\n",
      "9            9  9.976380e+15\n",
      "10          10  9.976314e+15\n",
      "11          11  9.975943e+15\n",
      "12          12  9.975848e+15\n",
      "13          13  9.975816e+15\n",
      "14          14  9.975811e+15\n",
      "15          15  9.975792e+15\n",
      "16          16  9.975789e+15\n",
      "17          17  9.975789e+15\n",
      "18          18  9.975704e+15\n",
      "19          19  9.975704e+15"
     ]
    }
   ],
   "source": [
    "\n",
    "cost_ = pd.DataFrame(cost_world)\n",
    "cost_ = cost_[2:][:]\n",
    "x = range(2,20)\n",
    "cost_['Value of K'] = x\n",
    "cost_['Cost Value'] = cost_[:][0]\n",
    "cost_ = cost_.drop([0], axis = 1)\n",
    "cost_"
   ]
  },
  {
   "cell_type": "code",
   "execution_count": 69,
   "metadata": {},
   "outputs": [
    {
     "data": {
      "application/vnd.jupyter.widget-view+json": {
       "model_id": "f8c02e137aea4d83b4badd8bb2a3cc36",
       "version_major": 2,
       "version_minor": 0
      },
      "text/plain": [
       "VBox()"
      ]
     },
     "metadata": {},
     "output_type": "display_data"
    },
    {
     "data": {
      "application/vnd.jupyter.widget-view+json": {
       "model_id": "",
       "version_major": 2,
       "version_minor": 0
      },
      "text/plain": [
       "FloatProgress(value=0.0, bar_style='info', description='Progress:', layout=Layout(height='25px', width='50%'),…"
      ]
     },
     "metadata": {},
     "output_type": "display_data"
    },
    {
     "name": "stdout",
     "output_type": "stream",
     "text": [
      "33.4959549904"
     ]
    }
   ],
   "source": [
    "evaluator = ClusteringEvaluator()\n",
    "import time\n",
    "start_time = time.time()\n",
    "\n",
    "silhoutte_state = np.zeros(20)\n",
    "for k in range(2,20):\n",
    "    kmeans = KMeans().setK(k).setSeed(1).setFeaturesCol(\"features\")\n",
    "    model = kmeans.fit(world_df.select('features')).transform(world_df)\n",
    "    silhoutte_state[k] = evaluator.evaluate(model)\n",
    "end_time = time.time()\n",
    "\n",
    "print(end_time - start_time)"
   ]
  },
  {
   "cell_type": "code",
   "execution_count": 71,
   "metadata": {},
   "outputs": [
    {
     "data": {
      "application/vnd.jupyter.widget-view+json": {
       "model_id": "d22d4d24570a442abcfcb4711ffbb03f",
       "version_major": 2,
       "version_minor": 0
      },
      "text/plain": [
       "VBox()"
      ]
     },
     "metadata": {},
     "output_type": "display_data"
    },
    {
     "data": {
      "application/vnd.jupyter.widget-view+json": {
       "model_id": "",
       "version_major": 2,
       "version_minor": 0
      },
      "text/plain": [
       "FloatProgress(value=0.0, bar_style='info', description='Progress:', layout=Layout(height='25px', width='50%'),…"
      ]
     },
     "metadata": {},
     "output_type": "display_data"
    },
    {
     "name": "stdout",
     "output_type": "stream",
     "text": [
      "    Value of K  Silhoutte Score\n",
      "2            2         0.996111\n",
      "3            3         0.953069\n",
      "4            4         0.952681\n",
      "5            5         0.925043\n",
      "6            6         0.928137\n",
      "7            7         0.899465\n",
      "8            8         0.870519\n",
      "9            9         0.874056\n",
      "10          10         0.884841\n",
      "11          11         0.885043\n",
      "12          12         0.843766\n",
      "13          13         0.845644\n",
      "14          14         0.845694\n",
      "15          15         0.809009\n",
      "16          16         0.803813\n",
      "17          17         0.768143\n",
      "18          18         0.811298\n",
      "19          19         0.826571"
     ]
    }
   ],
   "source": [
    "score = pd.DataFrame(silhoutte_state)\n",
    "score = score[2:][:]\n",
    "x = range(2,20)\n",
    "score['Value of K'] = x\n",
    "score['Silhoutte Score'] = score[:][0]\n",
    "score = score.drop([0], axis = 1)\n",
    "score"
   ]
  },
  {
   "cell_type": "code",
   "execution_count": 70,
   "metadata": {},
   "outputs": [
    {
     "data": {
      "application/vnd.jupyter.widget-view+json": {
       "model_id": "93f74a9b6e7d456cbcd27aa6d6f98ce6",
       "version_major": 2,
       "version_minor": 0
      },
      "text/plain": [
       "VBox()"
      ]
     },
     "metadata": {},
     "output_type": "display_data"
    },
    {
     "data": {
      "application/vnd.jupyter.widget-view+json": {
       "model_id": "",
       "version_major": 2,
       "version_minor": 0
      },
      "text/plain": [
       "FloatProgress(value=0.0, bar_style='info', description='Progress:', layout=Layout(height='25px', width='50%'),…"
      ]
     },
     "metadata": {},
     "output_type": "display_data"
    },
    {
     "name": "stdout",
     "output_type": "stream",
     "text": [
      "22.7054820061"
     ]
    }
   ],
   "source": [
    "import time\n",
    "start_time = time.time()\n",
    "\n",
    "kmeans = KMeans(k=4, seed=1)  # 4 clusters here\n",
    "model = kmeans.fit(world_df.select('features'))\n",
    "\n",
    "end_time = time.time()\n",
    "print(end_time - start_time)"
   ]
  },
  {
   "cell_type": "code",
   "execution_count": 72,
   "metadata": {},
   "outputs": [
    {
     "data": {
      "application/vnd.jupyter.widget-view+json": {
       "model_id": "568e0afdd4164ac28a2e2e681a542a19",
       "version_major": 2,
       "version_minor": 0
      },
      "text/plain": [
       "VBox()"
      ]
     },
     "metadata": {},
     "output_type": "display_data"
    },
    {
     "data": {
      "application/vnd.jupyter.widget-view+json": {
       "model_id": "",
       "version_major": 2,
       "version_minor": 0
      },
      "text/plain": [
       "FloatProgress(value=0.0, bar_style='info', description='Progress:', layout=Layout(height='25px', width='50%'),…"
      ]
     },
     "metadata": {},
     "output_type": "display_data"
    }
   ],
   "source": [
    "transformed = model.transform(world_df)"
   ]
  },
  {
   "cell_type": "code",
   "execution_count": 73,
   "metadata": {},
   "outputs": [
    {
     "data": {
      "application/vnd.jupyter.widget-view+json": {
       "model_id": "bff66dd324a04897a46b88a83e06e6e9",
       "version_major": 2,
       "version_minor": 0
      },
      "text/plain": [
       "VBox()"
      ]
     },
     "metadata": {},
     "output_type": "display_data"
    },
    {
     "data": {
      "application/vnd.jupyter.widget-view+json": {
       "model_id": "",
       "version_major": 2,
       "version_minor": 0
      },
      "text/plain": [
       "FloatProgress(value=0.0, bar_style='info', description='Progress:', layout=Layout(height='25px', width='50%'),…"
      ]
     },
     "metadata": {},
     "output_type": "display_data"
    },
    {
     "name": "stdout",
     "output_type": "stream",
     "text": [
      "0.9526812731017638"
     ]
    }
   ],
   "source": [
    "silhouette = evaluator.evaluate(transformed)\n",
    "silhouette"
   ]
  },
  {
   "cell_type": "code",
   "execution_count": 74,
   "metadata": {},
   "outputs": [
    {
     "data": {
      "application/vnd.jupyter.widget-view+json": {
       "model_id": "fe9369a77b9b4662b7e19358e333d7e2",
       "version_major": 2,
       "version_minor": 0
      },
      "text/plain": [
       "VBox()"
      ]
     },
     "metadata": {},
     "output_type": "display_data"
    },
    {
     "data": {
      "application/vnd.jupyter.widget-view+json": {
       "model_id": "",
       "version_major": 2,
       "version_minor": 0
      },
      "text/plain": [
       "FloatProgress(value=0.0, bar_style='info', description='Progress:', layout=Layout(height='25px', width='50%'),…"
      ]
     },
     "metadata": {},
     "output_type": "display_data"
    }
   ],
   "source": [
    "result = transformed.toPandas()\n",
    "x = world_data.index\n",
    "result['Country'] = x"
   ]
  },
  {
   "cell_type": "code",
   "execution_count": 75,
   "metadata": {},
   "outputs": [
    {
     "data": {
      "application/vnd.jupyter.widget-view+json": {
       "model_id": "a19a374a7fb14cc5922e8a247bdbf70f",
       "version_major": 2,
       "version_minor": 0
      },
      "text/plain": [
       "VBox()"
      ]
     },
     "metadata": {},
     "output_type": "display_data"
    },
    {
     "data": {
      "application/vnd.jupyter.widget-view+json": {
       "model_id": "",
       "version_major": 2,
       "version_minor": 0
      },
      "text/plain": [
       "FloatProgress(value=0.0, bar_style='info', description='Progress:', layout=Layout(height='25px', width='50%'),…"
      ]
     },
     "metadata": {},
     "output_type": "display_data"
    }
   ],
   "source": [
    "result0 = result.iloc[:,-2:]"
   ]
  },
  {
   "cell_type": "code",
   "execution_count": 76,
   "metadata": {},
   "outputs": [
    {
     "data": {
      "application/vnd.jupyter.widget-view+json": {
       "model_id": "c653ae6802134cfe94681d05cf71a25b",
       "version_major": 2,
       "version_minor": 0
      },
      "text/plain": [
       "VBox()"
      ]
     },
     "metadata": {},
     "output_type": "display_data"
    },
    {
     "data": {
      "application/vnd.jupyter.widget-view+json": {
       "model_id": "",
       "version_major": 2,
       "version_minor": 0
      },
      "text/plain": [
       "FloatProgress(value=0.0, bar_style='info', description='Progress:', layout=Layout(height='25px', width='50%'),…"
      ]
     },
     "metadata": {},
     "output_type": "display_data"
    },
    {
     "name": "stdout",
     "output_type": "stream",
     "text": [
      "     prediction         Country\n",
      "6             0       Argentina\n",
      "55            0           Chile\n",
      "89            0        Colombia\n",
      "126           0          France\n",
      "130           0         Germany\n",
      "145           0            Iran\n",
      "149           0           Italy\n",
      "178           0          Mexico\n",
      "203           0            Peru\n",
      "209           0          Russia\n",
      "226           0    South Africa\n",
      "228           0           Spain\n",
      "258           0  United Kingdom"
     ]
    }
   ],
   "source": [
    "cluster_1 = result0[result0['prediction'] == 0]\n",
    "cluster_1"
   ]
  },
  {
   "cell_type": "code",
   "execution_count": 77,
   "metadata": {},
   "outputs": [
    {
     "data": {
      "application/vnd.jupyter.widget-view+json": {
       "model_id": "25ab7d45b80645de974da22e4f050619",
       "version_major": 2,
       "version_minor": 0
      },
      "text/plain": [
       "VBox()"
      ]
     },
     "metadata": {},
     "output_type": "display_data"
    },
    {
     "data": {
      "application/vnd.jupyter.widget-view+json": {
       "model_id": "",
       "version_major": 2,
       "version_minor": 0
      },
      "text/plain": [
       "FloatProgress(value=0.0, bar_style='info', description='Progress:', layout=Layout(height='25px', width='50%'),…"
      ]
     },
     "metadata": {},
     "output_type": "display_data"
    },
    {
     "name": "stdout",
     "output_type": "stream",
     "text": [
      "     prediction                 Country\n",
      "0             1             Afghanistan\n",
      "1             1                 Albania\n",
      "2             1                 Algeria\n",
      "3             1                 Andorra\n",
      "4             1                  Angola\n",
      "5             1     Antigua and Barbuda\n",
      "7             1                 Armenia\n",
      "8             1               Australia\n",
      "9             1               Australia\n",
      "10            1               Australia\n",
      "11            1               Australia\n",
      "12            1               Australia\n",
      "13            1               Australia\n",
      "14            1               Australia\n",
      "15            1               Australia\n",
      "16            1                 Austria\n",
      "17            1              Azerbaijan\n",
      "18            1                 Bahamas\n",
      "19            1                 Bahrain\n",
      "20            1              Bangladesh\n",
      "21            1                Barbados\n",
      "22            1                 Belarus\n",
      "23            1                 Belgium\n",
      "24            1                  Belize\n",
      "25            1                   Benin\n",
      "26            1                  Bhutan\n",
      "27            1                 Bolivia\n",
      "28            1  Bosnia and Herzegovina\n",
      "29            1                Botswana\n",
      "31            1                  Brunei\n",
      "..          ...                     ...\n",
      "237           1                Tanzania\n",
      "238           1                Thailand\n",
      "239           1             Timor-Leste\n",
      "240           1                    Togo\n",
      "241           1     Trinidad and Tobago\n",
      "242           1                 Tunisia\n",
      "243           1                  Turkey\n",
      "245           1                  Uganda\n",
      "246           1                 Ukraine\n",
      "247           1    United Arab Emirates\n",
      "248           1          United Kingdom\n",
      "249           1          United Kingdom\n",
      "250           1          United Kingdom\n",
      "251           1          United Kingdom\n",
      "252           1          United Kingdom\n",
      "253           1          United Kingdom\n",
      "254           1          United Kingdom\n",
      "255           1          United Kingdom\n",
      "256           1          United Kingdom\n",
      "257           1          United Kingdom\n",
      "259           1                 Uruguay\n",
      "260           1              Uzbekistan\n",
      "261           1                 Vanuatu\n",
      "262           1               Venezuela\n",
      "263           1                 Vietnam\n",
      "264           1      West Bank and Gaza\n",
      "265           1          Western Sahara\n",
      "266           1                   Yemen\n",
      "267           1                  Zambia\n",
      "268           1                Zimbabwe\n",
      "\n",
      "[253 rows x 2 columns]"
     ]
    }
   ],
   "source": [
    "cluster_2 = result0[result0['prediction'] == 1]\n",
    "cluster_2"
   ]
  },
  {
   "cell_type": "code",
   "execution_count": 78,
   "metadata": {},
   "outputs": [
    {
     "data": {
      "application/vnd.jupyter.widget-view+json": {
       "model_id": "bd71b1c83cca433db67e2f36935735f5",
       "version_major": 2,
       "version_minor": 0
      },
      "text/plain": [
       "VBox()"
      ]
     },
     "metadata": {},
     "output_type": "display_data"
    },
    {
     "data": {
      "application/vnd.jupyter.widget-view+json": {
       "model_id": "",
       "version_major": 2,
       "version_minor": 0
      },
      "text/plain": [
       "FloatProgress(value=0.0, bar_style='info', description='Progress:', layout=Layout(height='25px', width='50%'),…"
      ]
     },
     "metadata": {},
     "output_type": "display_data"
    },
    {
     "name": "stdout",
     "output_type": "stream",
     "text": [
      "     prediction Country\n",
      "244           2      US"
     ]
    }
   ],
   "source": [
    "cluster_3 = result0[result0['prediction'] == 2]\n",
    "cluster_3"
   ]
  },
  {
   "cell_type": "code",
   "execution_count": 79,
   "metadata": {},
   "outputs": [
    {
     "data": {
      "application/vnd.jupyter.widget-view+json": {
       "model_id": "1374b534d286425984141feb92fd348b",
       "version_major": 2,
       "version_minor": 0
      },
      "text/plain": [
       "VBox()"
      ]
     },
     "metadata": {},
     "output_type": "display_data"
    },
    {
     "data": {
      "application/vnd.jupyter.widget-view+json": {
       "model_id": "",
       "version_major": 2,
       "version_minor": 0
      },
      "text/plain": [
       "FloatProgress(value=0.0, bar_style='info', description='Progress:', layout=Layout(height='25px', width='50%'),…"
      ]
     },
     "metadata": {},
     "output_type": "display_data"
    },
    {
     "name": "stdout",
     "output_type": "stream",
     "text": [
      "     prediction Country\n",
      "30            3  Brazil\n",
      "143           3   India"
     ]
    }
   ],
   "source": [
    "cluster_4 = result0[result0['prediction'] == 3]\n",
    "cluster_4"
   ]
  },
  {
   "cell_type": "markdown",
   "metadata": {},
   "source": [
    "#### Clustering Analysis based on US Data"
   ]
  },
  {
   "cell_type": "code",
   "execution_count": 80,
   "metadata": {},
   "outputs": [
    {
     "data": {
      "application/vnd.jupyter.widget-view+json": {
       "model_id": "928d27bff9ba48e9a79084f58b7595a5",
       "version_major": 2,
       "version_minor": 0
      },
      "text/plain": [
       "VBox()"
      ]
     },
     "metadata": {},
     "output_type": "display_data"
    },
    {
     "data": {
      "application/vnd.jupyter.widget-view+json": {
       "model_id": "",
       "version_major": 2,
       "version_minor": 0
      },
      "text/plain": [
       "FloatProgress(value=0.0, bar_style='info', description='Progress:', layout=Layout(height='25px', width='50%'),…"
      ]
     },
     "metadata": {},
     "output_type": "display_data"
    }
   ],
   "source": [
    "data = pd.read_csv('s3://bigdata678bdalvi17/Confirmed_US.csv')\n",
    "\n",
    "state_df = data.drop(['UID', 'iso2', 'iso3', 'code3', 'FIPS', 'Admin2', 'Lat', 'Long_', 'Country_Region', 'Combined_Key'], axis=1)\n",
    "province_df = data.drop(['UID', 'iso2', 'iso3', 'code3', 'FIPS', 'Admin2', 'Lat', 'Long_', 'Country_Region', 'Province_State'], axis=1)"
   ]
  },
  {
   "cell_type": "code",
   "execution_count": 81,
   "metadata": {},
   "outputs": [
    {
     "data": {
      "application/vnd.jupyter.widget-view+json": {
       "model_id": "efb84211b56a450bb7249ace9138484d",
       "version_major": 2,
       "version_minor": 0
      },
      "text/plain": [
       "VBox()"
      ]
     },
     "metadata": {},
     "output_type": "display_data"
    },
    {
     "data": {
      "application/vnd.jupyter.widget-view+json": {
       "model_id": "",
       "version_major": 2,
       "version_minor": 0
      },
      "text/plain": [
       "FloatProgress(value=0.0, bar_style='info', description='Progress:', layout=Layout(height='25px', width='50%'),…"
      ]
     },
     "metadata": {},
     "output_type": "display_data"
    },
    {
     "name": "stdout",
     "output_type": "stream",
     "text": [
      "                      1/22/2020  1/23/2020  ...  11/14/2020  11/15/2020\n",
      "Combined_Key                                ...                        \n",
      "Autauga, Alabama, US          0          0  ...        2435        2456\n",
      "Baldwin, Alabama, US          0          0  ...        7596        7646\n",
      "Barbour, Alabama, US          0          0  ...        1123        1128\n",
      "Bibb, Alabama, US             0          0  ...         978         986\n",
      "Blount, Alabama, US           0          0  ...        2518        2549\n",
      "\n",
      "[5 rows x 299 columns]"
     ]
    }
   ],
   "source": [
    "province_df = province_df.set_index('Combined_Key')\n",
    "province_df.head()"
   ]
  },
  {
   "cell_type": "code",
   "execution_count": 82,
   "metadata": {},
   "outputs": [
    {
     "data": {
      "application/vnd.jupyter.widget-view+json": {
       "model_id": "7273581031614bcd902f5bf5824ec7e1",
       "version_major": 2,
       "version_minor": 0
      },
      "text/plain": [
       "VBox()"
      ]
     },
     "metadata": {},
     "output_type": "display_data"
    },
    {
     "data": {
      "application/vnd.jupyter.widget-view+json": {
       "model_id": "",
       "version_major": 2,
       "version_minor": 0
      },
      "text/plain": [
       "FloatProgress(value=0.0, bar_style='info', description='Progress:', layout=Layout(height='25px', width='50%'),…"
      ]
     },
     "metadata": {},
     "output_type": "display_data"
    },
    {
     "name": "stdout",
     "output_type": "stream",
     "text": [
      "                1/22/2020  1/23/2020  ...    11/14/2020    11/15/2020\n",
      "Province_State                        ...                            \n",
      "Alabama               0.0        0.0  ...   3128.159420   3156.840580\n",
      "Alaska                0.0        0.0  ...    746.870968    768.193548\n",
      "American Samoa        0.0        0.0  ...      0.000000      0.000000\n",
      "Arizona               0.0        0.0  ...  16061.941176  16202.117647\n",
      "Arkansas              0.0        0.0  ...   1716.441558   1727.792208\n",
      "\n",
      "[5 rows x 299 columns]"
     ]
    }
   ],
   "source": [
    "state_df = state_df.groupby(['Province_State']).mean()\n",
    "state_df.head()"
   ]
  },
  {
   "cell_type": "code",
   "execution_count": 83,
   "metadata": {},
   "outputs": [
    {
     "data": {
      "application/vnd.jupyter.widget-view+json": {
       "model_id": "df5c3e6ab5d34a318726efd0203bc516",
       "version_major": 2,
       "version_minor": 0
      },
      "text/plain": [
       "VBox()"
      ]
     },
     "metadata": {},
     "output_type": "display_data"
    },
    {
     "data": {
      "application/vnd.jupyter.widget-view+json": {
       "model_id": "",
       "version_major": 2,
       "version_minor": 0
      },
      "text/plain": [
       "FloatProgress(value=0.0, bar_style='info', description='Progress:', layout=Layout(height='25px', width='50%'),…"
      ]
     },
     "metadata": {},
     "output_type": "display_data"
    }
   ],
   "source": [
    "state_sp = spark.createDataFrame(state_df)\n",
    "province_sp = spark.createDataFrame(province_df)"
   ]
  },
  {
   "cell_type": "code",
   "execution_count": 84,
   "metadata": {},
   "outputs": [
    {
     "data": {
      "application/vnd.jupyter.widget-view+json": {
       "model_id": "915836dd1c6d4c6696a51970c44ac512",
       "version_major": 2,
       "version_minor": 0
      },
      "text/plain": [
       "VBox()"
      ]
     },
     "metadata": {},
     "output_type": "display_data"
    },
    {
     "data": {
      "application/vnd.jupyter.widget-view+json": {
       "model_id": "",
       "version_major": 2,
       "version_minor": 0
      },
      "text/plain": [
       "FloatProgress(value=0.0, bar_style='info', description='Progress:', layout=Layout(height='25px', width='50%'),…"
      ]
     },
     "metadata": {},
     "output_type": "display_data"
    }
   ],
   "source": [
    "#state_sp = state_sp.select(*(col(c).cast(\"float\").alias(c) for c in df.columns[1:]))"
   ]
  },
  {
   "cell_type": "markdown",
   "metadata": {},
   "source": [
    "#### Clustering based on States and Districts"
   ]
  },
  {
   "cell_type": "code",
   "execution_count": 91,
   "metadata": {},
   "outputs": [
    {
     "data": {
      "application/vnd.jupyter.widget-view+json": {
       "model_id": "2f6b08bbcdd547fda8d3282611f28472",
       "version_major": 2,
       "version_minor": 0
      },
      "text/plain": [
       "VBox()"
      ]
     },
     "metadata": {},
     "output_type": "display_data"
    },
    {
     "data": {
      "application/vnd.jupyter.widget-view+json": {
       "model_id": "",
       "version_major": 2,
       "version_minor": 0
      },
      "text/plain": [
       "FloatProgress(value=0.0, bar_style='info', description='Progress:', layout=Layout(height='25px', width='50%'),…"
      ]
     },
     "metadata": {},
     "output_type": "display_data"
    }
   ],
   "source": [
    "vecAssembler = VectorAssembler(inputCols=state_sp.columns, outputCol=\"features\")\n",
    "new_df = vecAssembler.transform(state_sp)"
   ]
  },
  {
   "cell_type": "code",
   "execution_count": 86,
   "metadata": {},
   "outputs": [
    {
     "data": {
      "application/vnd.jupyter.widget-view+json": {
       "model_id": "98aa246a2b2c4f36a0bf6f42e8836a7e",
       "version_major": 2,
       "version_minor": 0
      },
      "text/plain": [
       "VBox()"
      ]
     },
     "metadata": {},
     "output_type": "display_data"
    },
    {
     "data": {
      "application/vnd.jupyter.widget-view+json": {
       "model_id": "",
       "version_major": 2,
       "version_minor": 0
      },
      "text/plain": [
       "FloatProgress(value=0.0, bar_style='info', description='Progress:', layout=Layout(height='25px', width='50%'),…"
      ]
     },
     "metadata": {},
     "output_type": "display_data"
    },
    {
     "name": "stdout",
     "output_type": "stream",
     "text": [
      "34.8633761406"
     ]
    }
   ],
   "source": [
    "# computing the cost function for best value of K\n",
    "\n",
    "start_time = time.time()\n",
    "\n",
    "cost = np.zeros(20)\n",
    "for k in range(2,20):\n",
    "    kmeans = KMeans().setK(k).setSeed(1).setFeaturesCol(\"features\")\n",
    "    model = kmeans.fit(new_df.sample(False,0.1, seed=42))\n",
    "    cost[k] = model.computeCost(new_df)\n",
    "    \n",
    "end_time = time.time()\n",
    "print(end_time - start_time)"
   ]
  },
  {
   "cell_type": "code",
   "execution_count": 87,
   "metadata": {},
   "outputs": [
    {
     "data": {
      "application/vnd.jupyter.widget-view+json": {
       "model_id": "073302edfc3447da912551b8552dc10b",
       "version_major": 2,
       "version_minor": 0
      },
      "text/plain": [
       "VBox()"
      ]
     },
     "metadata": {},
     "output_type": "display_data"
    },
    {
     "data": {
      "application/vnd.jupyter.widget-view+json": {
       "model_id": "",
       "version_major": 2,
       "version_minor": 0
      },
      "text/plain": [
       "FloatProgress(value=0.0, bar_style='info', description='Progress:', layout=Layout(height='25px', width='50%'),…"
      ]
     },
     "metadata": {},
     "output_type": "display_data"
    },
    {
     "name": "stdout",
     "output_type": "stream",
     "text": [
      "    Value of K    Cost Value\n",
      "2            2  2.985686e+10\n",
      "3            3  1.552945e+10\n",
      "4            4  1.307620e+10\n",
      "5            5  1.219122e+10\n",
      "6            6  1.215141e+10\n",
      "7            7  1.215141e+10\n",
      "8            8  1.215141e+10\n",
      "9            9  1.215141e+10\n",
      "10          10  1.215141e+10\n",
      "11          11  1.215141e+10\n",
      "12          12  1.215141e+10\n",
      "13          13  1.215141e+10\n",
      "14          14  1.215141e+10\n",
      "15          15  1.215141e+10\n",
      "16          16  1.215141e+10\n",
      "17          17  1.215141e+10\n",
      "18          18  1.215141e+10\n",
      "19          19  1.215141e+10"
     ]
    }
   ],
   "source": [
    "cost_ = pd.DataFrame(cost)\n",
    "cost_ = cost_[2:][:]\n",
    "x = range(2,20)\n",
    "cost_['Value of K'] = x\n",
    "cost_['Cost Value'] = cost_[:][0]\n",
    "cost_ = cost_.drop([0], axis = 1)\n",
    "cost_"
   ]
  },
  {
   "cell_type": "code",
   "execution_count": 62,
   "metadata": {},
   "outputs": [
    {
     "data": {
      "application/vnd.jupyter.widget-view+json": {
       "model_id": "2d81b5958b6544d7ac895d008a90722d",
       "version_major": 2,
       "version_minor": 0
      },
      "text/plain": [
       "VBox()"
      ]
     },
     "metadata": {},
     "output_type": "display_data"
    },
    {
     "data": {
      "application/vnd.jupyter.widget-view+json": {
       "model_id": "",
       "version_major": 2,
       "version_minor": 0
      },
      "text/plain": [
       "FloatProgress(value=0.0, bar_style='info', description='Progress:', layout=Layout(height='25px', width='50%'),…"
      ]
     },
     "metadata": {},
     "output_type": "display_data"
    },
    {
     "name": "stdout",
     "output_type": "stream",
     "text": [
      "24.3839437962"
     ]
    }
   ],
   "source": [
    "evaluator = ClusteringEvaluator()\n",
    "import time\n",
    "start_time = time.time()\n",
    "\n",
    "silhoutte_state = np.zeros(20)\n",
    "for k in range(2,20):\n",
    "    kmeans = KMeans().setK(k).setSeed(1).setFeaturesCol(\"features\")\n",
    "    model = kmeans.fit(new_df.select('features')).transform(new_df)\n",
    "    silhoutte_state[k] = evaluator.evaluate(model)\n",
    "end_time = time.time()\n",
    "\n",
    "print(end_time - start_time)"
   ]
  },
  {
   "cell_type": "code",
   "execution_count": 36,
   "metadata": {},
   "outputs": [
    {
     "data": {
      "application/vnd.jupyter.widget-view+json": {
       "model_id": "f6f87a98fd434956a39cae30a741770d",
       "version_major": 2,
       "version_minor": 0
      },
      "text/plain": [
       "VBox()"
      ]
     },
     "metadata": {},
     "output_type": "display_data"
    },
    {
     "data": {
      "application/vnd.jupyter.widget-view+json": {
       "model_id": "",
       "version_major": 2,
       "version_minor": 0
      },
      "text/plain": [
       "FloatProgress(value=0.0, bar_style='info', description='Progress:', layout=Layout(height='25px', width='50%'),…"
      ]
     },
     "metadata": {},
     "output_type": "display_data"
    },
    {
     "name": "stdout",
     "output_type": "stream",
     "text": [
      "    Value of K  Silhoutte Score\n",
      "2            2         0.906496\n",
      "3            3         0.836518\n",
      "4            4         0.816028\n",
      "5            5         0.763590\n",
      "6            6         0.734720\n",
      "7            7         0.744758\n",
      "8            8         0.774522\n",
      "9            9         0.753595\n",
      "10          10         0.687081\n",
      "11          11         0.722012\n",
      "12          12         0.627821\n",
      "13          13         0.713211\n",
      "14          14         0.615755\n",
      "15          15         0.676286\n",
      "16          16         0.599689\n",
      "17          17         0.529569\n",
      "18          18         0.600021\n",
      "19          19         0.606389"
     ]
    }
   ],
   "source": [
    "score = pd.DataFrame(silhoutte_state)\n",
    "score = score[2:][:]\n",
    "x = range(2,20)\n",
    "score['Value of K'] = x\n",
    "score['Silhoutte Score'] = score[:][0]\n",
    "score = score.drop([0], axis = 1)\n",
    "score"
   ]
  },
  {
   "cell_type": "code",
   "execution_count": 92,
   "metadata": {},
   "outputs": [
    {
     "data": {
      "application/vnd.jupyter.widget-view+json": {
       "model_id": "bb355fc11cef4107b6f3a31c8e52d400",
       "version_major": 2,
       "version_minor": 0
      },
      "text/plain": [
       "VBox()"
      ]
     },
     "metadata": {},
     "output_type": "display_data"
    },
    {
     "data": {
      "application/vnd.jupyter.widget-view+json": {
       "model_id": "",
       "version_major": 2,
       "version_minor": 0
      },
      "text/plain": [
       "FloatProgress(value=0.0, bar_style='info', description='Progress:', layout=Layout(height='25px', width='50%'),…"
      ]
     },
     "metadata": {},
     "output_type": "display_data"
    },
    {
     "name": "stdout",
     "output_type": "stream",
     "text": [
      "0.704065084457"
     ]
    }
   ],
   "source": [
    "import time\n",
    "start_time = time.time()\n",
    "\n",
    "kmeans = KMeans(k=4, seed=1)  # 4 clusters here\n",
    "model = kmeans.fit(new_df.select('features'))\n",
    "\n",
    "end_time =  time.time() \n",
    "print(end_time - start_time)"
   ]
  },
  {
   "cell_type": "code",
   "execution_count": 93,
   "metadata": {},
   "outputs": [
    {
     "data": {
      "application/vnd.jupyter.widget-view+json": {
       "model_id": "16bc0f3d700944fa8dc81d4c309fdeb0",
       "version_major": 2,
       "version_minor": 0
      },
      "text/plain": [
       "VBox()"
      ]
     },
     "metadata": {},
     "output_type": "display_data"
    },
    {
     "data": {
      "application/vnd.jupyter.widget-view+json": {
       "model_id": "",
       "version_major": 2,
       "version_minor": 0
      },
      "text/plain": [
       "FloatProgress(value=0.0, bar_style='info', description='Progress:', layout=Layout(height='25px', width='50%'),…"
      ]
     },
     "metadata": {},
     "output_type": "display_data"
    }
   ],
   "source": [
    "transformed = model.transform(new_df)"
   ]
  },
  {
   "cell_type": "code",
   "execution_count": 95,
   "metadata": {},
   "outputs": [
    {
     "data": {
      "application/vnd.jupyter.widget-view+json": {
       "model_id": "c21b0f1c49d04d9ab9a5cee3c01428de",
       "version_major": 2,
       "version_minor": 0
      },
      "text/plain": [
       "VBox()"
      ]
     },
     "metadata": {},
     "output_type": "display_data"
    },
    {
     "data": {
      "application/vnd.jupyter.widget-view+json": {
       "model_id": "",
       "version_major": 2,
       "version_minor": 0
      },
      "text/plain": [
       "FloatProgress(value=0.0, bar_style='info', description='Progress:', layout=Layout(height='25px', width='50%'),…"
      ]
     },
     "metadata": {},
     "output_type": "display_data"
    }
   ],
   "source": [
    "# silhouette = evaluator.evaluate(transformed)\n",
    "# silhouette"
   ]
  },
  {
   "cell_type": "code",
   "execution_count": 96,
   "metadata": {},
   "outputs": [
    {
     "data": {
      "application/vnd.jupyter.widget-view+json": {
       "model_id": "d5de58a231d2416a8c3366a14c027fc6",
       "version_major": 2,
       "version_minor": 0
      },
      "text/plain": [
       "VBox()"
      ]
     },
     "metadata": {},
     "output_type": "display_data"
    },
    {
     "data": {
      "application/vnd.jupyter.widget-view+json": {
       "model_id": "",
       "version_major": 2,
       "version_minor": 0
      },
      "text/plain": [
       "FloatProgress(value=0.0, bar_style='info', description='Progress:', layout=Layout(height='25px', width='50%'),…"
      ]
     },
     "metadata": {},
     "output_type": "display_data"
    }
   ],
   "source": [
    "result = transformed.toPandas()\n",
    "x = state_df.index\n",
    "result['State'] = x"
   ]
  },
  {
   "cell_type": "code",
   "execution_count": 97,
   "metadata": {},
   "outputs": [
    {
     "data": {
      "application/vnd.jupyter.widget-view+json": {
       "model_id": "151e9400ba0b422890a681d417cb30df",
       "version_major": 2,
       "version_minor": 0
      },
      "text/plain": [
       "VBox()"
      ]
     },
     "metadata": {},
     "output_type": "display_data"
    },
    {
     "data": {
      "application/vnd.jupyter.widget-view+json": {
       "model_id": "",
       "version_major": 2,
       "version_minor": 0
      },
      "text/plain": [
       "FloatProgress(value=0.0, bar_style='info', description='Progress:', layout=Layout(height='25px', width='50%'),…"
      ]
     },
     "metadata": {},
     "output_type": "display_data"
    }
   ],
   "source": [
    "result0 = result.iloc[:,-2:]"
   ]
  },
  {
   "cell_type": "code",
   "execution_count": 107,
   "metadata": {},
   "outputs": [
    {
     "data": {
      "application/vnd.jupyter.widget-view+json": {
       "model_id": "323b4fd74e3c49e5b5728c30aca6f78e",
       "version_major": 2,
       "version_minor": 0
      },
      "text/plain": [
       "VBox()"
      ]
     },
     "metadata": {},
     "output_type": "display_data"
    },
    {
     "data": {
      "application/vnd.jupyter.widget-view+json": {
       "model_id": "",
       "version_major": 2,
       "version_minor": 0
      },
      "text/plain": [
       "FloatProgress(value=0.0, bar_style='info', description='Progress:', layout=Layout(height='25px', width='50%'),…"
      ]
     },
     "metadata": {},
     "output_type": "display_data"
    },
    {
     "name": "stdout",
     "output_type": "stream",
     "text": [
      "    prediction                 State\n",
      "0            0               Alabama\n",
      "8            0              Delaware\n",
      "10           0  District of Columbia\n",
      "12           0               Georgia\n",
      "14           0                  Guam\n",
      "17           0              Illinois\n",
      "22           0             Louisiana\n",
      "24           0              Maryland\n",
      "26           0              Michigan\n",
      "32           0                Nevada\n",
      "37           0        North Carolina\n",
      "40           0                  Ohio\n",
      "43           0          Pennsylvania\n",
      "45           0          Rhode Island\n",
      "46           0        South Carolina\n",
      "48           0             Tennessee\n",
      "49           0                 Texas\n",
      "50           0                  Utah\n",
      "54           0            Washington\n",
      "56           0             Wisconsin"
     ]
    }
   ],
   "source": [
    "cluster_1 = result0[result0['prediction'] == 0]\n",
    "cluster_1"
   ]
  },
  {
   "cell_type": "code",
   "execution_count": 98,
   "metadata": {},
   "outputs": [
    {
     "data": {
      "application/vnd.jupyter.widget-view+json": {
       "model_id": "cd2df4988cd645eab0b679fb11cc60e5",
       "version_major": 2,
       "version_minor": 0
      },
      "text/plain": [
       "VBox()"
      ]
     },
     "metadata": {},
     "output_type": "display_data"
    },
    {
     "data": {
      "application/vnd.jupyter.widget-view+json": {
       "model_id": "",
       "version_major": 2,
       "version_minor": 0
      },
      "text/plain": [
       "FloatProgress(value=0.0, bar_style='info', description='Progress:', layout=Layout(height='25px', width='50%'),…"
      ]
     },
     "metadata": {},
     "output_type": "display_data"
    },
    {
     "name": "stdout",
     "output_type": "stream",
     "text": [
      "    prediction       State\n",
      "3            1     Arizona\n",
      "5            1  California\n",
      "11           1     Florida"
     ]
    }
   ],
   "source": [
    "cluster_2 = result0[result0['prediction'] == 1]\n",
    "cluster_2"
   ]
  },
  {
   "cell_type": "code",
   "execution_count": 99,
   "metadata": {},
   "outputs": [
    {
     "data": {
      "application/vnd.jupyter.widget-view+json": {
       "model_id": "07854fe2eeaf49cb82e0baddbca7fea9",
       "version_major": 2,
       "version_minor": 0
      },
      "text/plain": [
       "VBox()"
      ]
     },
     "metadata": {},
     "output_type": "display_data"
    },
    {
     "data": {
      "application/vnd.jupyter.widget-view+json": {
       "model_id": "",
       "version_major": 2,
       "version_minor": 0
      },
      "text/plain": [
       "FloatProgress(value=0.0, bar_style='info', description='Progress:', layout=Layout(height='25px', width='50%'),…"
      ]
     },
     "metadata": {},
     "output_type": "display_data"
    },
    {
     "name": "stdout",
     "output_type": "stream",
     "text": [
      "    prediction          State\n",
      "7            2    Connecticut\n",
      "25           2  Massachusetts\n",
      "34           2     New Jersey\n",
      "36           2       New York"
     ]
    }
   ],
   "source": [
    "cluster_3 = result0[result0['prediction'] == 2]\n",
    "cluster_3"
   ]
  },
  {
   "cell_type": "code",
   "execution_count": 100,
   "metadata": {},
   "outputs": [
    {
     "data": {
      "application/vnd.jupyter.widget-view+json": {
       "model_id": "090f8e310d15407dbc8d85bcf776f028",
       "version_major": 2,
       "version_minor": 0
      },
      "text/plain": [
       "VBox()"
      ]
     },
     "metadata": {},
     "output_type": "display_data"
    },
    {
     "data": {
      "application/vnd.jupyter.widget-view+json": {
       "model_id": "",
       "version_major": 2,
       "version_minor": 0
      },
      "text/plain": [
       "FloatProgress(value=0.0, bar_style='info', description='Progress:', layout=Layout(height='25px', width='50%'),…"
      ]
     },
     "metadata": {},
     "output_type": "display_data"
    },
    {
     "name": "stdout",
     "output_type": "stream",
     "text": [
      "    prediction                     State\n",
      "1            3                    Alaska\n",
      "2            3            American Samoa\n",
      "4            3                  Arkansas\n",
      "6            3                  Colorado\n",
      "9            3          Diamond Princess\n",
      "13           3            Grand Princess\n",
      "15           3                    Hawaii\n",
      "16           3                     Idaho\n",
      "18           3                   Indiana\n",
      "19           3                      Iowa\n",
      "20           3                    Kansas\n",
      "21           3                  Kentucky\n",
      "23           3                     Maine\n",
      "27           3                 Minnesota\n",
      "28           3               Mississippi\n",
      "29           3                  Missouri\n",
      "30           3                   Montana\n",
      "31           3                  Nebraska\n",
      "33           3             New Hampshire\n",
      "35           3                New Mexico\n",
      "38           3              North Dakota\n",
      "39           3  Northern Mariana Islands\n",
      "41           3                  Oklahoma\n",
      "42           3                    Oregon\n",
      "44           3               Puerto Rico\n",
      "47           3              South Dakota\n",
      "51           3                   Vermont\n",
      "52           3            Virgin Islands\n",
      "53           3                  Virginia\n",
      "55           3             West Virginia\n",
      "57           3                   Wyoming"
     ]
    }
   ],
   "source": [
    "cluster_4 = result0[result0['prediction'] == 3]\n",
    "cluster_4"
   ]
  },
  {
   "cell_type": "markdown",
   "metadata": {},
   "source": [
    "#### Clustering based on Counties (Provinces)"
   ]
  },
  {
   "cell_type": "code",
   "execution_count": 108,
   "metadata": {},
   "outputs": [
    {
     "data": {
      "application/vnd.jupyter.widget-view+json": {
       "model_id": "ce5f9923fc274a29b9cd318e122c3431",
       "version_major": 2,
       "version_minor": 0
      },
      "text/plain": [
       "VBox()"
      ]
     },
     "metadata": {},
     "output_type": "display_data"
    },
    {
     "data": {
      "application/vnd.jupyter.widget-view+json": {
       "model_id": "",
       "version_major": 2,
       "version_minor": 0
      },
      "text/plain": [
       "FloatProgress(value=0.0, bar_style='info', description='Progress:', layout=Layout(height='25px', width='50%'),…"
      ]
     },
     "metadata": {},
     "output_type": "display_data"
    }
   ],
   "source": [
    "vecAssembler = VectorAssembler(inputCols=province_sp.columns, outputCol=\"features\")\n",
    "new_df_ = vecAssembler.transform(province_sp)"
   ]
  },
  {
   "cell_type": "code",
   "execution_count": 109,
   "metadata": {},
   "outputs": [
    {
     "data": {
      "application/vnd.jupyter.widget-view+json": {
       "model_id": "8e39d132ac6a4d029d58754601b9bb8d",
       "version_major": 2,
       "version_minor": 0
      },
      "text/plain": [
       "VBox()"
      ]
     },
     "metadata": {},
     "output_type": "display_data"
    },
    {
     "data": {
      "application/vnd.jupyter.widget-view+json": {
       "model_id": "",
       "version_major": 2,
       "version_minor": 0
      },
      "text/plain": [
       "FloatProgress(value=0.0, bar_style='info', description='Progress:', layout=Layout(height='25px', width='50%'),…"
      ]
     },
     "metadata": {},
     "output_type": "display_data"
    },
    {
     "name": "stdout",
     "output_type": "stream",
     "text": [
      "48.5245220661"
     ]
    }
   ],
   "source": [
    "import time\n",
    "start_time = time.time()\n",
    "\n",
    "# computing the cost function for best value of K\n",
    "cost = np.zeros(20)\n",
    "for k in range(2,20):\n",
    "    kmeans = KMeans().setK(k).setSeed(1).setFeaturesCol(\"features\")\n",
    "    model = kmeans.fit(new_df_.sample(False,0.1, seed=42))\n",
    "    cost[k] = model.computeCost(new_df_)\n",
    "    \n",
    "end_time = time.time()\n",
    "print(end_time - start_time)"
   ]
  },
  {
   "cell_type": "code",
   "execution_count": 110,
   "metadata": {},
   "outputs": [
    {
     "data": {
      "application/vnd.jupyter.widget-view+json": {
       "model_id": "18f4b5b4c6094b94a8b4a23df1bf86f1",
       "version_major": 2,
       "version_minor": 0
      },
      "text/plain": [
       "VBox()"
      ]
     },
     "metadata": {},
     "output_type": "display_data"
    },
    {
     "data": {
      "application/vnd.jupyter.widget-view+json": {
       "model_id": "",
       "version_major": 2,
       "version_minor": 0
      },
      "text/plain": [
       "FloatProgress(value=0.0, bar_style='info', description='Progress:', layout=Layout(height='25px', width='50%'),…"
      ]
     },
     "metadata": {},
     "output_type": "display_data"
    },
    {
     "name": "stdout",
     "output_type": "stream",
     "text": [
      "    Value of K    Cost Value\n",
      "2            2  1.854343e+13\n",
      "3            3  1.328562e+13\n",
      "4            4  1.241803e+13\n",
      "5            5  1.186447e+13\n",
      "6            6  8.959339e+12\n",
      "7            7  8.885394e+12\n",
      "8            8  8.623531e+12\n",
      "9            9  8.488723e+12\n",
      "10          10  8.547327e+12\n",
      "11          11  8.547952e+12\n",
      "12          12  8.481038e+12\n",
      "13          13  8.288529e+12\n",
      "14          14  8.315760e+12\n",
      "15          15  8.269802e+12\n",
      "16          16  8.210134e+12\n",
      "17          17  8.232026e+12\n",
      "18          18  8.211597e+12\n",
      "19          19  8.194651e+12"
     ]
    }
   ],
   "source": [
    "cost_ = pd.DataFrame(cost)\n",
    "cost_ = cost_[2:][:]\n",
    "x = range(2,20)\n",
    "cost_['Value of K'] = x\n",
    "cost_['Cost Value'] = cost_[:][0]\n",
    "cost_ = cost_.drop([0], axis = 1)\n",
    "cost_"
   ]
  },
  {
   "cell_type": "code",
   "execution_count": 111,
   "metadata": {},
   "outputs": [
    {
     "data": {
      "application/vnd.jupyter.widget-view+json": {
       "model_id": "7cecbd9d1ab9496f8d268e454d2dcc8a",
       "version_major": 2,
       "version_minor": 0
      },
      "text/plain": [
       "VBox()"
      ]
     },
     "metadata": {},
     "output_type": "display_data"
    },
    {
     "data": {
      "application/vnd.jupyter.widget-view+json": {
       "model_id": "",
       "version_major": 2,
       "version_minor": 0
      },
      "text/plain": [
       "FloatProgress(value=0.0, bar_style='info', description='Progress:', layout=Layout(height='25px', width='50%'),…"
      ]
     },
     "metadata": {},
     "output_type": "display_data"
    },
    {
     "name": "stdout",
     "output_type": "stream",
     "text": [
      "1.30310821533"
     ]
    }
   ],
   "source": [
    "import time\n",
    "start_time = time.time()\n",
    "\n",
    "kmeans = KMeans(k=6, seed=1)  # 5 clusters here\n",
    "model = kmeans.fit(new_df_.select('features'))\n",
    "\n",
    "end_time = time.time()\n",
    "print(end_time - start_time)"
   ]
  },
  {
   "cell_type": "code",
   "execution_count": 112,
   "metadata": {},
   "outputs": [
    {
     "data": {
      "application/vnd.jupyter.widget-view+json": {
       "model_id": "0747939e271042079f1cb68c0710f4ab",
       "version_major": 2,
       "version_minor": 0
      },
      "text/plain": [
       "VBox()"
      ]
     },
     "metadata": {},
     "output_type": "display_data"
    },
    {
     "data": {
      "application/vnd.jupyter.widget-view+json": {
       "model_id": "",
       "version_major": 2,
       "version_minor": 0
      },
      "text/plain": [
       "FloatProgress(value=0.0, bar_style='info', description='Progress:', layout=Layout(height='25px', width='50%'),…"
      ]
     },
     "metadata": {},
     "output_type": "display_data"
    }
   ],
   "source": [
    "transformed = model.transform(new_df_)\n",
    "result_ = transformed.toPandas()\n",
    "x = province_df.index\n",
    "result_['State'] = x\n",
    "\n",
    "result0_ = result_.iloc[:,-2:]"
   ]
  },
  {
   "cell_type": "code",
   "execution_count": 113,
   "metadata": {},
   "outputs": [
    {
     "data": {
      "application/vnd.jupyter.widget-view+json": {
       "model_id": "6092eaf8fa6d4beca7a25c3ebc11b146",
       "version_major": 2,
       "version_minor": 0
      },
      "text/plain": [
       "VBox()"
      ]
     },
     "metadata": {},
     "output_type": "display_data"
    },
    {
     "data": {
      "application/vnd.jupyter.widget-view+json": {
       "model_id": "",
       "version_major": 2,
       "version_minor": 0
      },
      "text/plain": [
       "FloatProgress(value=0.0, bar_style='info', description='Progress:', layout=Layout(height='25px', width='50%'),…"
      ]
     },
     "metadata": {},
     "output_type": "display_data"
    },
    {
     "name": "stdout",
     "output_type": "stream",
     "text": [
      "      prediction                      State\n",
      "0              0       Autauga, Alabama, US\n",
      "1              0       Baldwin, Alabama, US\n",
      "2              0       Barbour, Alabama, US\n",
      "3              0          Bibb, Alabama, US\n",
      "4              0        Blount, Alabama, US\n",
      "5              0       Bullock, Alabama, US\n",
      "6              0        Butler, Alabama, US\n",
      "7              0       Calhoun, Alabama, US\n",
      "8              0      Chambers, Alabama, US\n",
      "9              0      Cherokee, Alabama, US\n",
      "10             0       Chilton, Alabama, US\n",
      "11             0       Choctaw, Alabama, US\n",
      "12             0        Clarke, Alabama, US\n",
      "13             0          Clay, Alabama, US\n",
      "14             0      Cleburne, Alabama, US\n",
      "15             0        Coffee, Alabama, US\n",
      "16             0       Colbert, Alabama, US\n",
      "17             0       Conecuh, Alabama, US\n",
      "18             0         Coosa, Alabama, US\n",
      "19             0     Covington, Alabama, US\n",
      "20             0      Crenshaw, Alabama, US\n",
      "21             0       Cullman, Alabama, US\n",
      "22             0          Dale, Alabama, US\n",
      "23             0        Dallas, Alabama, US\n",
      "24             0        DeKalb, Alabama, US\n",
      "25             0        Elmore, Alabama, US\n",
      "26             0      Escambia, Alabama, US\n",
      "27             0        Etowah, Alabama, US\n",
      "28             0       Fayette, Alabama, US\n",
      "29             0      Franklin, Alabama, US\n",
      "...          ...                        ...\n",
      "3309           0  Washington, Wisconsin, US\n",
      "3311           0     Waupaca, Wisconsin, US\n",
      "3312           0    Waushara, Wisconsin, US\n",
      "3313           0   Winnebago, Wisconsin, US\n",
      "3314           0        Wood, Wisconsin, US\n",
      "3315           0        Albany, Wyoming, US\n",
      "3316           0      Big Horn, Wyoming, US\n",
      "3317           0      Campbell, Wyoming, US\n",
      "3318           0        Carbon, Wyoming, US\n",
      "3319           0      Converse, Wyoming, US\n",
      "3320           0         Crook, Wyoming, US\n",
      "3321           0       Fremont, Wyoming, US\n",
      "3322           0        Goshen, Wyoming, US\n",
      "3323           0   Hot Springs, Wyoming, US\n",
      "3324           0       Johnson, Wyoming, US\n",
      "3325           0       Laramie, Wyoming, US\n",
      "3326           0       Lincoln, Wyoming, US\n",
      "3327           0       Natrona, Wyoming, US\n",
      "3328           0      Niobrara, Wyoming, US\n",
      "3329           0     Out of WY, Wyoming, US\n",
      "3330           0          Park, Wyoming, US\n",
      "3331           0        Platte, Wyoming, US\n",
      "3332           0      Sheridan, Wyoming, US\n",
      "3333           0      Sublette, Wyoming, US\n",
      "3334           0    Sweetwater, Wyoming, US\n",
      "3335           0         Teton, Wyoming, US\n",
      "3336           0         Uinta, Wyoming, US\n",
      "3337           0    Unassigned, Wyoming, US\n",
      "3338           0      Washakie, Wyoming, US\n",
      "3339           0        Weston, Wyoming, US\n",
      "\n",
      "[3095 rows x 2 columns]"
     ]
    }
   ],
   "source": [
    "cluster_1 = result0_[result0_['prediction'] == 0]\n",
    "cluster_1"
   ]
  },
  {
   "cell_type": "code",
   "execution_count": 114,
   "metadata": {},
   "outputs": [
    {
     "data": {
      "application/vnd.jupyter.widget-view+json": {
       "model_id": "7446fac20a3145c0bfc7ab8a0379f04b",
       "version_major": 2,
       "version_minor": 0
      },
      "text/plain": [
       "VBox()"
      ]
     },
     "metadata": {},
     "output_type": "display_data"
    },
    {
     "data": {
      "application/vnd.jupyter.widget-view+json": {
       "model_id": "",
       "version_major": 2,
       "version_minor": 0
      },
      "text/plain": [
       "FloatProgress(value=0.0, bar_style='info', description='Progress:', layout=Layout(height='25px', width='50%'),…"
      ]
     },
     "metadata": {},
     "output_type": "display_data"
    },
    {
     "name": "stdout",
     "output_type": "stream",
     "text": [
      "     prediction                        State\n",
      "213           1  Los Angeles, California, US"
     ]
    }
   ],
   "source": [
    "cluster_2 = result0_[result0_['prediction'] == 1]\n",
    "cluster_2"
   ]
  },
  {
   "cell_type": "code",
   "execution_count": 115,
   "metadata": {},
   "outputs": [
    {
     "data": {
      "application/vnd.jupyter.widget-view+json": {
       "model_id": "a6b8645b5c46453baf56c77250fa7e51",
       "version_major": 2,
       "version_minor": 0
      },
      "text/plain": [
       "VBox()"
      ]
     },
     "metadata": {},
     "output_type": "display_data"
    },
    {
     "data": {
      "application/vnd.jupyter.widget-view+json": {
       "model_id": "",
       "version_major": 2,
       "version_minor": 0
      },
      "text/plain": [
       "FloatProgress(value=0.0, bar_style='info', description='Progress:', layout=Layout(height='25px', width='50%'),…"
      ]
     },
     "metadata": {},
     "output_type": "display_data"
    },
    {
     "name": "stdout",
     "output_type": "stream",
     "text": [
      "      prediction                    State\n",
      "108            2    Maricopa, Arizona, US\n",
      "382            2  Miami-Dade, Florida, US\n",
      "640            2       Cook, Illinois, US\n",
      "2798           2        Harris, Texas, US"
     ]
    }
   ],
   "source": [
    "cluster_3 = result0_[result0_['prediction'] == 2]\n",
    "cluster_3"
   ]
  },
  {
   "cell_type": "code",
   "execution_count": 116,
   "metadata": {},
   "outputs": [
    {
     "data": {
      "application/vnd.jupyter.widget-view+json": {
       "model_id": "49ad0abbd90a47ceaa09c5a12d84675c",
       "version_major": 2,
       "version_minor": 0
      },
      "text/plain": [
       "VBox()"
      ]
     },
     "metadata": {},
     "output_type": "display_data"
    },
    {
     "data": {
      "application/vnd.jupyter.widget-view+json": {
       "model_id": "",
       "version_major": 2,
       "version_minor": 0
      },
      "text/plain": [
       "FloatProgress(value=0.0, bar_style='info', description='Progress:', layout=Layout(height='25px', width='50%'),…"
      ]
     },
     "metadata": {},
     "output_type": "display_data"
    },
    {
     "name": "stdout",
     "output_type": "stream",
     "text": [
      "      prediction                      State\n",
      "228            3  Riverside, California, US\n",
      "345            3       Broward, Florida, US\n",
      "1813           3          Clark, Nevada, US\n",
      "1902           3        Bronx, New York, US\n",
      "1923           3        Kings, New York, US\n",
      "1929           3       Nassau, New York, US\n",
      "1941           3       Queens, New York, US\n",
      "1952           3      Suffolk, New York, US\n",
      "2754           3          Dallas, Texas, US"
     ]
    }
   ],
   "source": [
    "cluster_4 = result0_[result0_['prediction'] == 3]\n",
    "cluster_4"
   ]
  },
  {
   "cell_type": "code",
   "execution_count": 117,
   "metadata": {},
   "outputs": [
    {
     "data": {
      "application/vnd.jupyter.widget-view+json": {
       "model_id": "e4592c052d74460fb213166b51e3b133",
       "version_major": 2,
       "version_minor": 0
      },
      "text/plain": [
       "VBox()"
      ]
     },
     "metadata": {},
     "output_type": "display_data"
    },
    {
     "data": {
      "application/vnd.jupyter.widget-view+json": {
       "model_id": "",
       "version_major": 2,
       "version_minor": 0
      },
      "text/plain": [
       "FloatProgress(value=0.0, bar_style='info', description='Progress:', layout=Layout(height='25px', width='50%'),…"
      ]
     },
     "metadata": {},
     "output_type": "display_data"
    },
    {
     "name": "stdout",
     "output_type": "stream",
     "text": [
      "      prediction                            State\n",
      "112            4                Pima, Arizona, US\n",
      "204            4           Fresno, California, US\n",
      "209            4             Kern, California, US\n",
      "224            4           Orange, California, US\n",
      "231            4   San Bernardino, California, US\n",
      "232            4        San Diego, California, US\n",
      "321            4       Fairfield, Connecticut, US\n",
      "354            4               Duval, Florida, US\n",
      "367            4        Hillsborough, Florida, US\n",
      "387            4              Orange, Florida, US\n",
      "390            4          Palm Beach, Florida, US\n",
      "392            4            Pinellas, Florida, US\n",
      "468            4              Fulton, Georgia, US\n",
      "475            4            Gwinnett, Georgia, US\n",
      "777            4              Marion, Indiana, US\n",
      "1252           4         Montgomery, Maryland, US\n",
      "1254           4    Prince George's, Maryland, US\n",
      "1268           4         Essex, Massachusetts, US\n",
      "1272           4     Middlesex, Massachusetts, US\n",
      "1277           4       Suffolk, Massachusetts, US\n",
      "1344           4            Oakland, Michigan, US\n",
      "1365           4              Wayne, Michigan, US\n",
      "1393           4          Hennepin, Minnesota, US\n",
      "1642           4          St. Louis, Missouri, US\n",
      "1843           4           Bergen, New Jersey, US\n",
      "1848           4            Essex, New Jersey, US\n",
      "1850           4           Hudson, New Jersey, US\n",
      "1853           4        Middlesex, New Jersey, US\n",
      "1858           4          Passaic, New Jersey, US\n",
      "1863           4            Union, New Jersey, US\n",
      "1930           4           New York, New York, US\n",
      "1961           4        Westchester, New York, US\n",
      "2023           4  Mecklenburg, North Carolina, US\n",
      "2146           4               Franklin, Ohio, US\n",
      "2380           4   Philadelphia, Pennsylvania, US\n",
      "2619           4          Davidson, Tennessee, US\n",
      "2680           4            Shelby, Tennessee, US\n",
      "2712           4                 Bexar, Texas, US\n",
      "2767           4               El Paso, Texas, US\n",
      "2805           4               Hidalgo, Texas, US\n",
      "2918           4               Tarrant, Texas, US\n",
      "2925           4                Travis, Texas, US\n",
      "2974           4              Salt Lake, Utah, US\n",
      "3045           4            Fairfax, Virginia, US\n",
      "3159           4             King, Washington, US\n",
      "3281           4         Milwaukee, Wisconsin, US"
     ]
    }
   ],
   "source": [
    "cluster_5 = result0_[result0_['prediction'] == 4]\n",
    "cluster_5"
   ]
  },
  {
   "cell_type": "code",
   "execution_count": 118,
   "metadata": {},
   "outputs": [
    {
     "data": {
      "application/vnd.jupyter.widget-view+json": {
       "model_id": "3497bc2ecb894217a05200914c31a804",
       "version_major": 2,
       "version_minor": 0
      },
      "text/plain": [
       "VBox()"
      ]
     },
     "metadata": {},
     "output_type": "display_data"
    },
    {
     "data": {
      "application/vnd.jupyter.widget-view+json": {
       "model_id": "",
       "version_major": 2,
       "version_minor": 0
      },
      "text/plain": [
       "FloatProgress(value=0.0, bar_style='info', description='Progress:', layout=Layout(height='25px', width='50%'),…"
      ]
     },
     "metadata": {},
     "output_type": "display_data"
    },
    {
     "name": "stdout",
     "output_type": "stream",
     "text": [
      "      prediction                          State\n",
      "36             5         Jefferson, Alabama, US\n",
      "44             5           Madison, Alabama, US\n",
      "48             5            Mobile, Alabama, US\n",
      "50             5        Montgomery, Alabama, US\n",
      "63             5        Tuscaloosa, Alabama, US\n",
      "110            5            Navajo, Arizona, US\n",
      "113            5             Pinal, Arizona, US\n",
      "117            5              Yuma, Arizona, US\n",
      "121            5           Benton, Arkansas, US\n",
      "178            5          Pulaski, Arkansas, US\n",
      "191            5       Washington, Arkansas, US\n",
      "195            5        Alameda, California, US\n",
      "201            5   Contra Costa, California, US\n",
      "207            5       Imperial, California, US\n",
      "210            5          Kings, California, US\n",
      "215            5          Marin, California, US\n",
      "218            5         Merced, California, US\n",
      "221            5       Monterey, California, US\n",
      "229            5     Sacramento, California, US\n",
      "233            5  San Francisco, California, US\n",
      "234            5    San Joaquin, California, US\n",
      "236            5      San Mateo, California, US\n",
      "237            5  Santa Barbara, California, US\n",
      "238            5    Santa Clara, California, US\n",
      "243            5         Solano, California, US\n",
      "244            5         Sonoma, California, US\n",
      "245            5     Stanislaus, California, US\n",
      "249            5         Tulare, California, US\n",
      "252            5        Ventura, California, US\n",
      "255            5            Adams, Colorado, US\n",
      "...          ...                            ...\n",
      "2647           5            Knox, Tennessee, US\n",
      "2676           5      Rutherford, Tennessee, US\n",
      "2717           5            Brazoria, Texas, US\n",
      "2718           5              Brazos, Texas, US\n",
      "2728           5             Cameron, Texas, US\n",
      "2740           5              Collin, Texas, US\n",
      "2759           5              Denton, Texas, US\n",
      "2776           5           Fort Bend, Texas, US\n",
      "2781           5           Galveston, Texas, US\n",
      "2820           5           Jefferson, Texas, US\n",
      "2849           5             Lubbock, Texas, US\n",
      "2858           5            McLennan, Texas, US\n",
      "2867           5          Montgomery, Texas, US\n",
      "2875           5              Nueces, Texas, US\n",
      "2886           5              Potter, Texas, US\n",
      "2939           5                Webb, Texas, US\n",
      "2945           5          Williamson, Texas, US\n",
      "2985           5                 Utah, Utah, US\n",
      "3033           5     Chesterfield, Virginia, US\n",
      "3078           5          Loudoun, Virginia, US\n",
      "3109           5   Prince William, Virginia, US\n",
      "3133           5   Virginia Beach, Virginia, US\n",
      "3170           5         Pierce, Washington, US\n",
      "3174           5      Snohomish, Washington, US\n",
      "3175           5        Spokane, Washington, US\n",
      "3183           5         Yakima, Washington, US\n",
      "3245           5           Brown, Wisconsin, US\n",
      "3253           5            Dane, Wisconsin, US\n",
      "3293           5          Racine, Wisconsin, US\n",
      "3310           5        Waukesha, Wisconsin, US\n",
      "\n",
      "[185 rows x 2 columns]"
     ]
    }
   ],
   "source": [
    "cluster_6 = result0_[result0_['prediction'] == 5]\n",
    "cluster_6"
   ]
  }
 ],
 "metadata": {
  "kernelspec": {
   "display_name": "Python 3",
   "language": "python",
   "name": "python3"
  },
  "language_info": {
   "codemirror_mode": {
    "name": "ipython",
    "version": 3
   },
   "file_extension": ".py",
   "mimetype": "text/x-python",
   "name": "python",
   "nbconvert_exporter": "python",
   "pygments_lexer": "ipython3",
   "version": "3.8.5"
  }
 },
 "nbformat": 4,
 "nbformat_minor": 4
}
